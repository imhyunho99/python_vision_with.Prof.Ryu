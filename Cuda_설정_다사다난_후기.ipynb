{
  "nbformat": 4,
  "nbformat_minor": 0,
  "metadata": {
    "colab": {
      "provenance": [],
      "authorship_tag": "ABX9TyNP/krbqTpA6GJhNx9Jypdt",
      "include_colab_link": true
    },
    "kernelspec": {
      "name": "python3",
      "display_name": "Python 3"
    },
    "language_info": {
      "name": "python"
    }
  },
  "cells": [
    {
      "cell_type": "markdown",
      "metadata": {
        "id": "view-in-github",
        "colab_type": "text"
      },
      "source": [
        "<a href=\"https://colab.research.google.com/github/imhyunho99/python_vision_with.Prof.Ryu/blob/main/Cuda_%EC%84%A4%EC%A0%95_%EB%8B%A4%EC%82%AC%EB%8B%A4%EB%82%9C_%ED%9B%84%EA%B8%B0.ipynb\" target=\"_parent\"><img src=\"https://colab.research.google.com/assets/colab-badge.svg\" alt=\"Open In Colab\"/></a>"
      ]
    },
    {
      "cell_type": "markdown",
      "source": [
        "# 아래 글을 작성하기 전 도움을 받은분들과 글 작성자에게 감사말씀 올립니다.#\n",
        "\n"
      ],
      "metadata": {
        "id": "76cN65WShhbP"
      }
    },
    {
      "cell_type": "markdown",
      "source": [
        "0. 발단\n",
        "\n",
        "나는 컴퓨터공학을 전공하는 대학교 3학년 학생이다. 교수님이 로컬에서 Cuda환경설정을 해보라고 한다. 나는 Colab을 쓴다. 거기선 그냥 돈이랑 시간주면 쓰는게 GPU였는데... 이거 할수 있을까? 혹시 되어있을 수도 있으니 일단 \n",
        "<br>\n",
        "<br> anaconda prompt를 켠다\n",
        "<br> python... 음 내 python 버전은 3.11이군\n",
        "<br> 좋아 일단 테스트\n",
        "<br> import torch\n",
        "<br> torch.cuda.is_avilable()\n",
        "<br> False..? 아 일단 없네 깔아야지"
      ],
      "metadata": {
        "id": "YTonalo6hg79"
      }
    },
    {
      "cell_type": "markdown",
      "source": [
        "1. 전개\n",
        "\n",
        "음 일단 Cuda 버전부터 볼까\n",
        "<br> cmd를 켠다.\n",
        "<br> nvidia-smi\n",
        "<br> 응? Cuda 12.1 ..? 난 11을 넘어가는 Cuda에 호환되는 Tensorflow를 본적이 없는데..?\n",
        "<br> 아 일단 Cuda부터 다시 깔아... \n",
        "<br> 어 구글링해보니까 Nvidia 써있는 파일을 다 지우라네... 그럼 다 지우자!!\n",
        "<br> 다시 드라이버부터! https://www.nvidia.co.kr/Download/index.aspx?lang=kr 에서 내 노트북에 맞는 드라이버를 깐다.\n",
        "<br> 다시 nvidia-smi...\n",
        "<br> ??? 왜 계속 Cuda 12.1인거지..?"
      ],
      "metadata": {
        "id": "0S4wPtLYhf48"
      }
    },
    {
      "cell_type": "markdown",
      "source": [
        "2. 위기\n",
        "\n",
        "아 몰라 일단 다깔아보자...\n",
        "<br> cuDNN도 깔으라고? https://developer.nvidia.com/rdp/cudnn-download 에 들어가서  nvida 로그인을 한다. 나도 이제 로컬 gpu사용자 헤헤헤\n",
        "<br> nvidia-smi 하니 Cuda 12.1, nvcc -V 12.1 어? 잘 찍히네?? 헤헤헤 이제 tensor랑 torch깔고 테스트 코드 돌리고 냅다 자야징\n",
        "<br> anaconda prompt를 킨다\n",
        "<br>\n",
        "<br> pip install tensorflow\n",
        "<br> pip install tensorflow_gpu\n",
        "<br> pip install torch\n",
        "<br>\n",
        "<br> 오 나 좀 쩌는듯!! 에러가 안나!! 나 좀 쩌는듯 ㅎㅎ\n",
        "<br> 이제 돌려보자고!! \n",
        "<br>\n",
        "<br> import tensorflow as tf\n",
        "<br> tf.__version__\n",
        "<br> 2.11.0..? 높으면 좋은거겠지?ㅎㅎ\n",
        "<br> from tensorflow.python.client import device_lib \n",
        "<br> device_lib.list_local_devices()\n",
        "<br> 한줄 한줄 프롬프트에 코드가 찍힌다...\n",
        "<br> 이제 마지막줄에 GPU만 찍히면 성공 ㅎㅎ 디비 자야징\n",
        "<br> ???: 어림없지 너 못자ㅋ \n",
        "<br> 현실 부정하고 다시 시작\n",
        "\n",
        "<br> import torch\n",
        "<br> torch.cuda.is_avilable()\n",
        "<br> Flase ???\n",
        "\n",
        "<br> 이렇게 1일차가 지났다. "
      ],
      "metadata": {
        "id": "WBbqEed2kej-"
      }
    },
    {
      "cell_type": "markdown",
      "source": [
        "3. 절정\n",
        "<br> 며칠밤이 지났습니다. 컴퓨터는 고개를 들어 Flase를 반환하세요ㅋ\n",
        "<br> 위같은 상황이 3일정도 지나고 불현듯 든 생각은\n",
        "<br> 아니? nvidia에서 주는 드라이버에는 Cuda가 자동으로 깔려있는거 아닌가??\n",
        "<br> 좋아 MSI에서 주는 GPU드라이버를 써본다!! https://kr.msi.com/support/download 드라이버를 찾아서 다시 다 지우고 깐다.\n",
        "<br> 떨리는 마음으로 기도...\n",
        "<br>\n",
        "<br> nvidia-smi  Cuda 10.1\n",
        "<br> nvcc -V Cuda 10.1\n",
        "<br> ???: 오 쒸 나 쩌는데..? 성공이다!! 이거였구나!!!\n",
        "<br> 다시 cuDNN버전에 맞춰서 깔고! 이정도야 껌이지\n",
        "<br> 쿠오쿠오 tensor랑 torch 버전도 맞춰야지 ㅎㅎ\n",
        "<br> 다시다시 \n",
        "<br> pip install tensorflow==2.3\n",
        "<br> pip install tensorflow_gpu==2.3\n",
        "<br> pip install torch\n",
        "<br> torch version은 뭘로 하징...?\n",
        "<br> 일단 돌리자!! \n",
        "<br> import torch\n",
        "<br> torch.cuda.is_available()\n",
        "<br> ㅋ 어림없지\n",
        "<br> False\n",
        "\n",
        "\n",
        "2, 3과정 무한반복. 나는 멘탈이 터지고. 점점 손을 놓고 있었다... 그냥 colab 쓰자\n",
        "\n",
        "<br> 찐막이다 생각하고 anaconda navigator를 켠다\n",
        "<br> navigator에서 파이썬, 토치, 텐서 버전을 한번 손보고 마지막 시도를 해보자\n",
        "<br> 일단 텐서를 삭제해야겠다.\n",
        "<br> remove? 아 잘못눌렀다...ㅋ\n",
        "<br> 그렇게 나의 가상환경이 날라갔고 노트북 던져버릴뻔 했지만... 음 나 노트북 또살돈은 없어 ㅎㅎ 참고 잤다..."
      ],
      "metadata": {
        "id": "RrkTmwKRm4EP"
      }
    },
    {
      "cell_type": "markdown",
      "source": [
        "4. 결말\n",
        "\n",
        "바로 어제 4.9 밤 11시\n",
        "\n",
        "<br> 찐찐찐막이다. \n",
        "<br> 다시 처음부터!! Cuda깔고, cuDNN깔고, conda에 인스톨 해보장 버전 잘 맞춰서!\n",
        "\n",
        "<br> pip install tensorflow_gpu==2.3\n",
        "<br> pip install tensorflow==2.3\n",
        "<br> conda install pytorch==1.7.0 torchvision==0.8.0 torchaudio==0.7.0 cudatoolkit=10.1 -c pytorch\n",
        "\n",
        "<br>토치 버전은 https://pytorch.org/get-started/previous-versions/ 에서 찾음ㅎㅎ\n",
        "\n",
        "\n",
        "<br> 기도 계속한다. 세상에 있는 모든신을 찾는다. 이번에 안되면 그냥 로컬 포기\n",
        "<br> import torch\n",
        "<br> torch.cuda.is_avilable()\n",
        "<br> True..?ㅋㅋㅋㅋㅋㅋㅋㅋㅋㅋㅋㅋㅋㅋㅋㅋㅋㅋㅋㅋㅋㅋㅋㅋㅋㅋㅋㅋ\n",
        "<br>\n",
        "<br> from tensorflow.python.client import device_lib \n",
        "<br> device_lib.list_local_devices()\n",
        "<br> gpu가 드디어 뜬다 ㅋㅋㅋㅋㅋㅋㅋㅋㅋㅋㅋㅋㅋㅋㅋㅋㅋㅋㅋㅋㅋㅋㅋ 난 이제 신이야\n",
        "\n",
        "\n",
        "<br>이렇게 모든 작업을 완료 했다... \n",
        "\n",
        "<br> To.교수님 지금 이거 앞에서 열심히 수업하시는데 쓰는중이에요. 저 이것때문에 주말동안 쉬지도 못했어요. 교수님 오늘 아침에 열심히 뛰어오시던데 저는 주말동안 손가락으로 열심히 뛰었어요. \n",
        "\n",
        "속이 후련하고 다시한번 도움을 주신 모든 torch, tensor, Cuda 사용자분들께 감사드립니다.\n"
      ],
      "metadata": {
        "id": "xo0Q8QkLqTWt"
      }
    }
  ]
}
