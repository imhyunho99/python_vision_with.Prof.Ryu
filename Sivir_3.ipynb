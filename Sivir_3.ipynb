{
  "cells": [
    {
      "cell_type": "markdown",
      "metadata": {
        "id": "view-in-github",
        "colab_type": "text"
      },
      "source": [
        "<a href=\"https://colab.research.google.com/github/imhyunho99/python_vision_with.Prof.Ryu/blob/main/Sivir_3.ipynb\" target=\"_parent\"><img src=\"https://colab.research.google.com/assets/colab-badge.svg\" alt=\"Open In Colab\"/></a>"
      ]
    },
    {
      "cell_type": "markdown",
      "source": [
        "##Download and Learning"
      ],
      "metadata": {
        "id": "GYgJcEbYTj3C"
      }
    },
    {
      "cell_type": "code",
      "execution_count": null,
      "metadata": {
        "id": "5KuEs80vi8_9"
      },
      "outputs": [],
      "source": [
        "#Roboflow version 3 dataset export\n",
        "\n",
        "!curl -L \"https://app.roboflow.com/ds/WyVRuucuYI?key=xsSw2JCXSm\" > roboflow.zip; unzip roboflow.zip; rm roboflow.zip\n",
        "#roboflow에서 학습시킨 데이터, 모델 Export and download"
      ]
    },
    {
      "cell_type": "code",
      "execution_count": null,
      "metadata": {
        "id": "8p1603VijJ_x"
      },
      "outputs": [],
      "source": [
        "#Yolov5 git commit\n",
        "\n",
        "%cd /content\n",
        "!git clone https://github.com/ultralytics/yolov5.git\n",
        "#github yolo v5 clone"
      ]
    },
    {
      "cell_type": "code",
      "execution_count": null,
      "metadata": {
        "colab": {
          "base_uri": "https://localhost:8080/"
        },
        "id": "WnS0XLAcj1aO",
        "outputId": "39596774-4c3b-4518-f16b-40afb307e404"
      },
      "outputs": [
        {
          "output_type": "stream",
          "name": "stdout",
          "text": [
            "/content/yolov5\n",
            "Looking in indexes: https://pypi.org/simple, https://us-python.pkg.dev/colab-wheels/public/simple/\n",
            "Collecting gitpython>=3.1.30\n",
            "  Downloading GitPython-3.1.31-py3-none-any.whl (184 kB)\n",
            "\u001b[2K     \u001b[90m━━━━━━━━━━━━━━━━━━━━━━━━━━━━━━━━━━━━━━\u001b[0m \u001b[32m184.3/184.3 kB\u001b[0m \u001b[31m14.4 MB/s\u001b[0m eta \u001b[36m0:00:00\u001b[0m\n",
            "\u001b[?25hRequirement already satisfied: matplotlib>=3.3 in /usr/local/lib/python3.10/dist-packages (from -r requirements.txt (line 6)) (3.7.1)\n",
            "Requirement already satisfied: numpy>=1.18.5 in /usr/local/lib/python3.10/dist-packages (from -r requirements.txt (line 7)) (1.22.4)\n",
            "Requirement already satisfied: opencv-python>=4.1.1 in /usr/local/lib/python3.10/dist-packages (from -r requirements.txt (line 8)) (4.7.0.72)\n",
            "Requirement already satisfied: Pillow>=7.1.2 in /usr/local/lib/python3.10/dist-packages (from -r requirements.txt (line 9)) (8.4.0)\n",
            "Requirement already satisfied: psutil in /usr/local/lib/python3.10/dist-packages (from -r requirements.txt (line 10)) (5.9.5)\n",
            "Requirement already satisfied: PyYAML>=5.3.1 in /usr/local/lib/python3.10/dist-packages (from -r requirements.txt (line 11)) (6.0)\n",
            "Requirement already satisfied: requests>=2.23.0 in /usr/local/lib/python3.10/dist-packages (from -r requirements.txt (line 12)) (2.27.1)\n",
            "Requirement already satisfied: scipy>=1.4.1 in /usr/local/lib/python3.10/dist-packages (from -r requirements.txt (line 13)) (1.10.1)\n",
            "Collecting thop>=0.1.1\n",
            "  Downloading thop-0.1.1.post2209072238-py3-none-any.whl (15 kB)\n",
            "Requirement already satisfied: torch>=1.7.0 in /usr/local/lib/python3.10/dist-packages (from -r requirements.txt (line 15)) (2.0.0+cu118)\n",
            "Requirement already satisfied: torchvision>=0.8.1 in /usr/local/lib/python3.10/dist-packages (from -r requirements.txt (line 16)) (0.15.1+cu118)\n",
            "Requirement already satisfied: tqdm>=4.64.0 in /usr/local/lib/python3.10/dist-packages (from -r requirements.txt (line 17)) (4.65.0)\n",
            "Requirement already satisfied: pandas>=1.1.4 in /usr/local/lib/python3.10/dist-packages (from -r requirements.txt (line 26)) (1.5.3)\n",
            "Requirement already satisfied: seaborn>=0.11.0 in /usr/local/lib/python3.10/dist-packages (from -r requirements.txt (line 27)) (0.12.2)\n",
            "Requirement already satisfied: setuptools>=65.5.1 in /usr/local/lib/python3.10/dist-packages (from -r requirements.txt (line 41)) (67.7.2)\n",
            "Collecting gitdb<5,>=4.0.1\n",
            "  Downloading gitdb-4.0.10-py3-none-any.whl (62 kB)\n",
            "\u001b[2K     \u001b[90m━━━━━━━━━━━━━━━━━━━━━━━━━━━━━━━━━━━━━━━━\u001b[0m \u001b[32m62.7/62.7 kB\u001b[0m \u001b[31m8.7 MB/s\u001b[0m eta \u001b[36m0:00:00\u001b[0m\n",
            "\u001b[?25hRequirement already satisfied: kiwisolver>=1.0.1 in /usr/local/lib/python3.10/dist-packages (from matplotlib>=3.3->-r requirements.txt (line 6)) (1.4.4)\n",
            "Requirement already satisfied: packaging>=20.0 in /usr/local/lib/python3.10/dist-packages (from matplotlib>=3.3->-r requirements.txt (line 6)) (23.1)\n",
            "Requirement already satisfied: fonttools>=4.22.0 in /usr/local/lib/python3.10/dist-packages (from matplotlib>=3.3->-r requirements.txt (line 6)) (4.39.3)\n",
            "Requirement already satisfied: contourpy>=1.0.1 in /usr/local/lib/python3.10/dist-packages (from matplotlib>=3.3->-r requirements.txt (line 6)) (1.0.7)\n",
            "Requirement already satisfied: cycler>=0.10 in /usr/local/lib/python3.10/dist-packages (from matplotlib>=3.3->-r requirements.txt (line 6)) (0.11.0)\n",
            "Requirement already satisfied: python-dateutil>=2.7 in /usr/local/lib/python3.10/dist-packages (from matplotlib>=3.3->-r requirements.txt (line 6)) (2.8.2)\n",
            "Requirement already satisfied: pyparsing>=2.3.1 in /usr/local/lib/python3.10/dist-packages (from matplotlib>=3.3->-r requirements.txt (line 6)) (3.0.9)\n",
            "Requirement already satisfied: charset-normalizer~=2.0.0 in /usr/local/lib/python3.10/dist-packages (from requests>=2.23.0->-r requirements.txt (line 12)) (2.0.12)\n",
            "Requirement already satisfied: urllib3<1.27,>=1.21.1 in /usr/local/lib/python3.10/dist-packages (from requests>=2.23.0->-r requirements.txt (line 12)) (1.26.15)\n",
            "Requirement already satisfied: certifi>=2017.4.17 in /usr/local/lib/python3.10/dist-packages (from requests>=2.23.0->-r requirements.txt (line 12)) (2022.12.7)\n",
            "Requirement already satisfied: idna<4,>=2.5 in /usr/local/lib/python3.10/dist-packages (from requests>=2.23.0->-r requirements.txt (line 12)) (3.4)\n",
            "Requirement already satisfied: triton==2.0.0 in /usr/local/lib/python3.10/dist-packages (from torch>=1.7.0->-r requirements.txt (line 15)) (2.0.0)\n",
            "Requirement already satisfied: jinja2 in /usr/local/lib/python3.10/dist-packages (from torch>=1.7.0->-r requirements.txt (line 15)) (3.1.2)\n",
            "Requirement already satisfied: typing-extensions in /usr/local/lib/python3.10/dist-packages (from torch>=1.7.0->-r requirements.txt (line 15)) (4.5.0)\n",
            "Requirement already satisfied: sympy in /usr/local/lib/python3.10/dist-packages (from torch>=1.7.0->-r requirements.txt (line 15)) (1.11.1)\n",
            "Requirement already satisfied: networkx in /usr/local/lib/python3.10/dist-packages (from torch>=1.7.0->-r requirements.txt (line 15)) (3.1)\n",
            "Requirement already satisfied: filelock in /usr/local/lib/python3.10/dist-packages (from torch>=1.7.0->-r requirements.txt (line 15)) (3.12.0)\n",
            "Requirement already satisfied: cmake in /usr/local/lib/python3.10/dist-packages (from triton==2.0.0->torch>=1.7.0->-r requirements.txt (line 15)) (3.25.2)\n",
            "Requirement already satisfied: lit in /usr/local/lib/python3.10/dist-packages (from triton==2.0.0->torch>=1.7.0->-r requirements.txt (line 15)) (16.0.2)\n",
            "Requirement already satisfied: pytz>=2020.1 in /usr/local/lib/python3.10/dist-packages (from pandas>=1.1.4->-r requirements.txt (line 26)) (2022.7.1)\n",
            "Collecting smmap<6,>=3.0.1\n",
            "  Downloading smmap-5.0.0-py3-none-any.whl (24 kB)\n",
            "Requirement already satisfied: six>=1.5 in /usr/local/lib/python3.10/dist-packages (from python-dateutil>=2.7->matplotlib>=3.3->-r requirements.txt (line 6)) (1.16.0)\n",
            "Requirement already satisfied: MarkupSafe>=2.0 in /usr/local/lib/python3.10/dist-packages (from jinja2->torch>=1.7.0->-r requirements.txt (line 15)) (2.1.2)\n",
            "Requirement already satisfied: mpmath>=0.19 in /usr/local/lib/python3.10/dist-packages (from sympy->torch>=1.7.0->-r requirements.txt (line 15)) (1.3.0)\n",
            "Installing collected packages: smmap, gitdb, gitpython, thop\n",
            "Successfully installed gitdb-4.0.10 gitpython-3.1.31 smmap-5.0.0 thop-0.1.1.post2209072238\n"
          ]
        }
      ],
      "source": [
        "#yolo-5 req install\n",
        "\n",
        "%cd /content/yolov5/\n",
        "!pip install -r requirements.txt"
      ]
    },
    {
      "cell_type": "code",
      "execution_count": null,
      "metadata": {
        "id": "JlPlrs9x8zpi"
      },
      "outputs": [],
      "source": [
        "#실행전에 dataset 이라는 폴더를 만들어서 train, test, data.yaml 등 yolov5 제외 모든 파일, 폴더 전부 집어 넣기기\n",
        "\n",
        "%mkdir dataset"
      ]
    },
    {
      "cell_type": "code",
      "execution_count": null,
      "metadata": {
        "id": "nvfPTYSQ9KD2"
      },
      "outputs": [],
      "source": [
        "%mv '/content/test' '/content/dataset'\n",
        "%mv '/content/train' '/content/dataset'\n",
        "%mv '/content/valid' '/content/dataset'\n",
        "%mv '/content/README.dataset.txt' '/content/dataset'\n",
        "%mv '/content/README.roboflow.txt' '/content/dataset'\n",
        "%mv '/content/data.yaml' '/content/dataset'"
      ]
    },
    {
      "cell_type": "code",
      "execution_count": null,
      "metadata": {
        "colab": {
          "base_uri": "https://localhost:8080/"
        },
        "id": "Wmum2kbAj-h3",
        "outputId": "d31d719e-484e-422e-f474-3a0862608270"
      },
      "outputs": [
        {
          "output_type": "stream",
          "name": "stdout",
          "text": [
            "train: ../train/images\n",
            "val: ../valid/images\n",
            "test: ../test/images\n",
            "\n",
            "nc: 2\n",
            "names: ['skill_success', 'skill_using']\n",
            "\n",
            "roboflow:\n",
            "  workspace: project\n",
            "  project: skill_s\n",
            "  version: 4\n",
            "  license: CC BY 4.0\n",
            "  url: https://universe.roboflow.com/project/skill_s/dataset/4"
          ]
        }
      ],
      "source": [
        "%cat /content/dataset/data.yaml"
      ]
    },
    {
      "cell_type": "code",
      "execution_count": null,
      "metadata": {
        "colab": {
          "base_uri": "https://localhost:8080/"
        },
        "id": "59bxmTd0krk4",
        "outputId": "ebdd1bfe-e9f2-43d4-c2d5-870e867de226"
      },
      "outputs": [
        {
          "output_type": "stream",
          "name": "stdout",
          "text": [
            "/\n",
            "769\n"
          ]
        }
      ],
      "source": [
        "#Image 싹 긁어 모으기기\n",
        "\n",
        "%cd /\n",
        "from glob import glob\n",
        "\n",
        "img_list = glob('/content/dataset/test/images/*.jpg')\n",
        "img_list += glob('/content/dataset/train/images/*.jpg')\n",
        "img_list += glob('/content/dataset/valid/images/*.jpg')\n",
        "print(len(img_list))"
      ]
    },
    {
      "cell_type": "code",
      "execution_count": null,
      "metadata": {
        "id": "ys3mFG2A6-_l"
      },
      "outputs": [],
      "source": [
        "#hyperParam\n",
        "\n",
        "batch_size = 32\n",
        "num_epoch = 200"
      ]
    },
    {
      "cell_type": "code",
      "execution_count": null,
      "metadata": {
        "colab": {
          "base_uri": "https://localhost:8080/"
        },
        "id": "cJbipgDylAHY",
        "outputId": "b405d1af-0359-4e46-c2b6-b7df1bb72977"
      },
      "outputs": [
        {
          "output_type": "stream",
          "name": "stdout",
          "text": [
            "615 154\n"
          ]
        }
      ],
      "source": [
        "#끌어 모은 이미지 train, test로 split\n",
        "from sklearn.model_selection import train_test_split\n",
        "import torch.utils.data as data\n",
        "\n",
        "train_img_list, test_img_list = train_test_split(img_list, test_size=0.2, random_state=42)\n",
        "train_img_length, test_img_length = len(train_img_list), len(test_img_list)\n",
        "\n",
        "train_loader =  data.DataLoader(train_img_list, batch_size=batch_size,\n",
        "                            shuffle=True, drop_last = True)\n",
        "test_loader = data.DataLoader(test_img_list, batch_size=batch_size,\n",
        "                            shuffle=False, drop_last = True)\n",
        "print(len(train_img_list), len(test_img_list))"
      ]
    },
    {
      "cell_type": "code",
      "execution_count": null,
      "metadata": {
        "id": "YewU3sWClTyh"
      },
      "outputs": [],
      "source": [
        "#train, test에 list up\n",
        "with open('/content/dataset/train.txt', 'w') as f:\n",
        "  f.write('\\n'.join(train_img_list) + '\\n')\n",
        "\n",
        "with open('/content/dataset/test.txt', 'w') as f:\n",
        "  f.write('\\n'.join(test_img_list) + '\\n')"
      ]
    },
    {
      "cell_type": "code",
      "execution_count": null,
      "metadata": {
        "colab": {
          "base_uri": "https://localhost:8080/"
        },
        "id": "w8JhXyYBlrrW",
        "outputId": "39aeb9bc-3adb-45fc-c257-ba2ba70b7716"
      },
      "outputs": [
        {
          "output_type": "stream",
          "name": "stdout",
          "text": [
            "{'train': '../train/images', 'val': '../valid/images', 'test': '../test/images', 'nc': 2, 'names': ['skill_success', 'skill_using'], 'roboflow': {'workspace': 'project', 'project': 'skill_s', 'version': 4, 'license': 'CC BY 4.0', 'url': 'https://universe.roboflow.com/project/skill_s/dataset/4'}}\n",
            "{'train': '/content/dataset/train.txt', 'val': '/content/dataset/test.txt', 'test': '../test/images', 'nc': 2, 'names': ['skill_success', 'skill_using'], 'roboflow': {'workspace': 'project', 'project': 'skill_s', 'version': 4, 'license': 'CC BY 4.0', 'url': 'https://universe.roboflow.com/project/skill_s/dataset/4'}}\n"
          ]
        }
      ],
      "source": [
        "import yaml\n",
        "\n",
        "with open('/content/dataset/data.yaml', 'r') as f:\n",
        "  data = yaml.safe_load(f)\n",
        "\n",
        "print(data)\n",
        "\n",
        "data['train'] = '/content/dataset/train.txt'\n",
        "data['val'] = '/content/dataset/test.txt'\n",
        "\n",
        "with open('/content/dataset/data.yaml', 'w') as f:\n",
        "  yaml.dump(data, f)\n",
        "\n",
        "print(data)"
      ]
    },
    {
      "cell_type": "code",
      "execution_count": null,
      "metadata": {
        "colab": {
          "base_uri": "https://localhost:8080/"
        },
        "id": "Das7YGgqmSUL",
        "outputId": "a4b63a71-3ddc-4653-e0e3-aae11fcda360"
      },
      "outputs": [
        {
          "output_type": "stream",
          "name": "stdout",
          "text": [
            "/content/yolov5\n",
            "Traceback (most recent call last):\n",
            "  File \"/usr/local/lib/python3.10/dist-packages/tensorboard/compat/__init__.py\", line 42, in tf\n",
            "ImportError: cannot import name 'notf' from 'tensorboard.compat' (/usr/local/lib/python3.10/dist-packages/tensorboard/compat/__init__.py)\n",
            "\n",
            "During handling of the above exception, another exception occurred:\n",
            "\n",
            "Traceback (most recent call last):\n",
            "  File \"/content/yolov5/train.py\", line 56, in <module>\n",
            "    from utils.loggers import Loggers\n",
            "  File \"/content/yolov5/utils/loggers/__init__.py\", line 23, in <module>\n",
            "    from torch.utils.tensorboard import SummaryWriter\n",
            "  File \"/usr/local/lib/python3.10/dist-packages/torch/utils/tensorboard/__init__.py\", line 12, in <module>\n",
            "    from .writer import FileWriter, SummaryWriter  # noqa: F401\n",
            "  File \"/usr/local/lib/python3.10/dist-packages/torch/utils/tensorboard/writer.py\", line 16, in <module>\n",
            "    from ._embedding import (\n",
            "  File \"/usr/local/lib/python3.10/dist-packages/torch/utils/tensorboard/_embedding.py\", line 9, in <module>\n",
            "    _HAS_GFILE_JOIN = hasattr(tf.io.gfile, \"join\")\n",
            "  File \"/usr/local/lib/python3.10/dist-packages/tensorboard/lazy.py\", line 65, in __getattr__\n",
            "    return getattr(load_once(self), attr_name)\n",
            "  File \"/usr/local/lib/python3.10/dist-packages/tensorboard/lazy.py\", line 97, in wrapper\n",
            "    cache[arg] = f(arg)\n",
            "  File \"/usr/local/lib/python3.10/dist-packages/tensorboard/lazy.py\", line 50, in load_once\n",
            "    module = load_fn()\n",
            "  File \"/usr/local/lib/python3.10/dist-packages/tensorboard/compat/__init__.py\", line 45, in tf\n",
            "    import tensorflow\n",
            "  File \"/usr/local/lib/python3.10/dist-packages/tensorflow/__init__.py\", line 37, in <module>\n",
            "    from tensorflow.python.tools import module_util as _module_util\n",
            "  File \"/usr/local/lib/python3.10/dist-packages/tensorflow/python/__init__.py\", line 42, in <module>\n",
            "    from tensorflow.python import data\n",
            "  File \"/usr/local/lib/python3.10/dist-packages/tensorflow/python/data/__init__.py\", line 21, in <module>\n",
            "    from tensorflow.python.data import experimental\n",
            "  File \"/usr/local/lib/python3.10/dist-packages/tensorflow/python/data/experimental/__init__.py\", line 97, in <module>\n",
            "    from tensorflow.python.data.experimental import service\n",
            "  File \"/usr/local/lib/python3.10/dist-packages/tensorflow/python/data/experimental/service/__init__.py\", line 419, in <module>\n",
            "    from tensorflow.python.data.experimental.ops.data_service_ops import distribute\n",
            "  File \"/usr/local/lib/python3.10/dist-packages/tensorflow/python/data/experimental/ops/data_service_ops.py\", line 25, in <module>\n",
            "    from tensorflow.python.data.ops import dataset_ops\n",
            "  File \"/usr/local/lib/python3.10/dist-packages/tensorflow/python/data/ops/dataset_ops.py\", line 31, in <module>\n",
            "    from tensorflow.python.data.ops import iterator_ops\n",
            "  File \"/usr/local/lib/python3.10/dist-packages/tensorflow/python/data/ops/iterator_ops.py\", line 35, in <module>\n",
            "    from tensorflow.python.ops import gen_dataset_ops\n",
            "  File \"/usr/local/lib/python3.10/dist-packages/tensorflow/python/ops/gen_dataset_ops.py\", line 6317, in <module>\n",
            "    RepeatDataset = tf_export(\"raw_ops.RepeatDataset\")(_ops.to_raw_op(repeat_dataset))\n",
            "  File \"/usr/local/lib/python3.10/dist-packages/tensorflow/python/framework/ops.py\", line 7257, in to_raw_op\n",
            "    return kwarg_only(f)\n",
            "  File \"/usr/local/lib/python3.10/dist-packages/tensorflow/python/util/tf_export.py\", line 415, in kwarg_only\n",
            "    return tf_decorator.make_decorator(\n",
            "  File \"/usr/local/lib/python3.10/dist-packages/tensorflow/python/util/tf_decorator.py\", line 136, in make_decorator\n",
            "    decorator = TFDecorator(decorator_name, target, decorator_doc,\n",
            "  File \"/usr/local/lib/python3.10/dist-packages/tensorflow/python/util/tf_decorator.py\", line 329, in __init__\n",
            "    self.__signature__ = fullargspec_to_signature(decorator_argspec)\n",
            "  File \"/usr/local/lib/python3.10/dist-packages/tensorflow/python/util/tf_decorator.py\", line 86, in fullargspec_to_signature\n",
            "    inspect.Parameter(\n",
            "  File \"/usr/lib/python3.10/inspect.py\", line 2643, in __init__\n",
            "    if self._kind in (_VAR_POSITIONAL, _VAR_KEYWORD):\n",
            "KeyboardInterrupt\n",
            "^C\n"
          ]
        }
      ],
      "source": [
        "%cd /content/yolov5/\n",
        "#training img => 총 이미지 사이즈, batch = batch_size, epochs, data => data, \n",
        "!python train.py --batch \"{batch_size}\" --epochs \"{num_epoch}\" --data /content/dataset/data.yaml --cfg ./models/yolov5n.yaml --weights yolov5n.pt --name Sivir --optimizer Adam"
      ]
    },
    {
      "cell_type": "markdown",
      "source": [
        "##Detection and analyse"
      ],
      "metadata": {
        "id": "YSpB5gxzTaHI"
      }
    },
    {
      "cell_type": "code",
      "execution_count": null,
      "metadata": {
        "colab": {
          "base_uri": "https://localhost:8080/"
        },
        "id": "TQQ-ZJApwKCZ",
        "outputId": "0efd9ab4-a1c0-4895-f7dc-693bc597d6e3"
      },
      "outputs": [
        {
          "output_type": "stream",
          "name": "stdout",
          "text": [
            "python3: can't open file '/content/yolov5/runs/detect/exp2/labels/yolov5/detect.py': [Errno 2] No such file or directory\n"
          ]
        }
      ],
      "source": [
        "# 코드입력\n",
        "!python detect.py --weights ./runs/train/Sivir/weights/best.pt --conf 0.7 --source /content/test.mp4 --save-txt --visualize=True"
      ]
    },
    {
      "cell_type": "code",
      "execution_count": null,
      "metadata": {
        "id": "dWEV3db7c-Tr",
        "colab": {
          "base_uri": "https://localhost:8080/"
        },
        "outputId": "fcaa899b-ad32-494d-e0d0-8d7f41a30320"
      },
      "outputs": [
        {
          "output_type": "stream",
          "name": "stdout",
          "text": [
            "[(3, {'0'}),\n",
            " (4, {'0'}),\n",
            " (5, {'0'}),\n",
            " (6, {'0'}),\n",
            " (7, {'0'}),\n",
            " (8, {'0'}),\n",
            " (9, {'0'}),\n",
            " (10, {'0'}),\n",
            " (11, {'0'}),\n",
            " (12, {'0'}),\n",
            " (13, {'0'}),\n",
            " (14, {'0'}),\n",
            " (15, {'0'}),\n",
            " (16, {'0'}),\n",
            " (17, {'0'}),\n",
            " (18, {'0'}),\n",
            " (19, {'0'}),\n",
            " (20, {'0'}),\n",
            " (21, {'0'}),\n",
            " (22, {'0'}),\n",
            " (55, {'0'}),\n",
            " (57, {'0'}),\n",
            " (62, {'0'}),\n",
            " (63, {'0'}),\n",
            " (64, {'1'}),\n",
            " (65, {'1'}),\n",
            " (66, {'1'}),\n",
            " (67, {'1'}),\n",
            " (68, {'0'}),\n",
            " (69, {'0'}),\n",
            " (70, {'0'}),\n",
            " (71, {'0'}),\n",
            " (72, {'0'}),\n",
            " (73, {'0'}),\n",
            " (74, {'0'}),\n",
            " (75, {'0'}),\n",
            " (76, {'0'}),\n",
            " (77, {'0'}),\n",
            " (78, {'0'}),\n",
            " (79, {'0'}),\n",
            " (80, {'0'}),\n",
            " (81, {'0'}),\n",
            " (82, {'0'}),\n",
            " (83, {'0'}),\n",
            " (84, {'0'}),\n",
            " (85, {'0'}),\n",
            " (86, {'0'}),\n",
            " (87, {'0'}),\n",
            " (88, {'0'}),\n",
            " (89, {'0'}),\n",
            " (90, {'0'}),\n",
            " (92, {'0'}),\n",
            " (93, {'0'}),\n",
            " (99, {'0'}),\n",
            " (124, {'0'}),\n",
            " (128, {'0'}),\n",
            " (143, {'0'}),\n",
            " (144, {'0'}),\n",
            " (145, {'0'}),\n",
            " (156, {'1'}),\n",
            " (160, {'0'}),\n",
            " (161, {'0'}),\n",
            " (166, {'0'}),\n",
            " (171, {'0'}),\n",
            " (172, {'0'}),\n",
            " (173, {'0'}),\n",
            " (174, {'0'}),\n",
            " (175, {'0'}),\n",
            " (184, {'0'}),\n",
            " (187, {'0'}),\n",
            " (188, {'0'}),\n",
            " (190, {'0'}),\n",
            " (193, {'0'}),\n",
            " (201, {'0'}),\n",
            " (202, {'0'}),\n",
            " (203, {'0'}),\n",
            " (206, {'0'}),\n",
            " (207, {'0'}),\n",
            " (208, {'0'}),\n",
            " (212, {'1'}),\n",
            " (213, {'1'}),\n",
            " (215, {'0'}),\n",
            " (216, {'0'}),\n",
            " (222, {'0'}),\n",
            " (223, {'0'}),\n",
            " (226, {'0'}),\n",
            " (227, {'0'}),\n",
            " (228, {'0'}),\n",
            " (229, {'0'}),\n",
            " (230, {'0'}),\n",
            " (231, {'0'}),\n",
            " (232, {'0'}),\n",
            " (233, {'0'}),\n",
            " (234, {'0'}),\n",
            " (235, {'0'}),\n",
            " (241, {'0'}),\n",
            " (242, {'0'}),\n",
            " (243, {'0'}),\n",
            " (244, {'0'}),\n",
            " (254, {'0'}),\n",
            " (255, {'0'}),\n",
            " (256, {'0'}),\n",
            " (258, {'0'}),\n",
            " (259, {'0'}),\n",
            " (260, {'0'}),\n",
            " (263, {'0'}),\n",
            " (264, {'0'})]\n"
          ]
        }
      ],
      "source": [
        "#Detection할 File_setting\n",
        "\n",
        "import os\n",
        "import re\n",
        "import pprint\n",
        "\n",
        "label_detected = os.chdir('/content/yolov5/runs/detect/exp2/labels/') #여기서 path 바꿔야할 수도 있음\n",
        "file_list = os.listdir()\n",
        "detection_set = {} \n",
        "pattern = r'\\d+'\n",
        "for file_name in file_list:\n",
        "    file = open(file_name,'r')\n",
        "    line = file.readline()\n",
        "    line = line.split(' ')\n",
        "    detection_class = line[0]\n",
        "\n",
        "    numbers = re.findall(pattern, file_name)\n",
        "    if numbers:\n",
        "      numbers = int(numbers[0])\n",
        "      detection = {numbers:detection_class}\n",
        "      detection_set[numbers] = {detection_class}\n",
        "\n",
        "detection_set = sorted(detection_set.items())\n",
        "pprint.pprint(detection_set)"
      ]
    },
    {
      "cell_type": "code",
      "source": [],
      "metadata": {
        "id": "GXWH-x0_qU0E"
      },
      "execution_count": null,
      "outputs": []
    },
    {
      "cell_type": "markdown",
      "source": [
        "##Ingame play"
      ],
      "metadata": {
        "id": "efsMz6lBUZgC"
      }
    },
    {
      "cell_type": "markdown",
      "source": [
        "Case\n",
        "\n",
        "\n",
        "1.   E스킬 사용, 아무것도 못막고 판별도 잘 한 경우\n",
        "\n",
        "2.   E스킬 사용, 잘 막았고 판별도 잘 한 경우\n",
        "\n",
        "3.   아무것도 못막았지만 중간에 판별이 이상하게 된 경우\n",
        "\n",
        "4.   잘 막았지만 중간에 판별이 이상하게 된 경우\n",
        "\n",
        "5.   처음부터 이상하게 판별한 경우\n"
      ],
      "metadata": {
        "id": "Mn4FwoL3XisI"
      }
    },
    {
      "cell_type": "code",
      "source": [],
      "metadata": {
        "id": "lOxUMzLWUhDD"
      },
      "execution_count": null,
      "outputs": []
    }
  ],
  "metadata": {
    "accelerator": "GPU",
    "colab": {
      "provenance": [],
      "collapsed_sections": [
        "GYgJcEbYTj3C",
        "YSpB5gxzTaHI"
      ],
      "include_colab_link": true
    },
    "gpuClass": "standard",
    "kernelspec": {
      "display_name": "Python 3",
      "name": "python3"
    }
  },
  "nbformat": 4,
  "nbformat_minor": 0
}